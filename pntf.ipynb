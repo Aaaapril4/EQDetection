{
 "cells": [
  {
   "cell_type": "markdown",
   "metadata": {},
   "source": [
    "## Phase Picking\n",
    "We use [PhaseNet-TF](https://github.com/ziyixi/PhaseNet-TF) to perform phase picking. I fixed a small bug that nan could be induced in the data [here](https://github.com/Aaaapril4/PhaseNet-TF), you can choose whichever version you want, the procedures are the same."
   ]
  },
  {
   "cell_type": "markdown",
   "metadata": {},
   "source": [
    "### Install the environment\n",
    "To install:\n",
    "1. clone the repo into the directory\n",
    "2. install the [Poetry](https://python-poetry.org/docs/), which is a environment management tool like anaconda (you can follow the doc to install Poetry, but if you decide to install it on icer, I suggest to use conda to install Poetry)\n",
    "3. create a python virtual environment\n",
    "4. use poetry to install the environment"
   ]
  },
  {
   "cell_type": "code",
   "execution_count": null,
   "metadata": {},
   "outputs": [],
   "source": [
    "# load the python environment and create new virtual environment\n",
    "! module purge\n",
    "! module load GCC/11.3.0\n",
    "! module load Python/3.10.4-GCCcore-11.3.0\n",
    "\n",
    "! python3 -m venv ~/phasenet-tf"
   ]
  },
  {
   "cell_type": "code",
   "execution_count": null,
   "metadata": {},
   "outputs": [],
   "source": [
    "# now you can activate the environment and you should see a (phasenet-tf) at the first of the command if you are using terminal\n",
    "! source ~/phasenet-tf/bin/activate"
   ]
  },
  {
   "cell_type": "code",
   "execution_count": null,
   "metadata": {},
   "outputs": [],
   "source": [
    "# clone the repo and change the directory\n",
    "! cd /path/to/code\n",
    "! git clone https://github.com/Aaaapril4/PhaseNet-TF.git\n",
    "! cd /path/to/code/PhaseNet-TF"
   ]
  },
  {
   "cell_type": "code",
   "execution_count": null,
   "metadata": {},
   "outputs": [],
   "source": [
    "# install poetry using conda\n",
    "! conda create -n pntf python=3.10.4\n",
    "! conda activate pntf\n",
    "! conda install conda-forge::poetry"
   ]
  },
  {
   "cell_type": "code",
   "execution_count": null,
   "metadata": {},
   "outputs": [],
   "source": [
    "# you should see Poetry (version 1.4.0) here if you install successfully\n",
    "! poetry --version"
   ]
  },
  {
   "cell_type": "code",
   "execution_count": null,
   "metadata": {},
   "outputs": [],
   "source": [
    "# before install the PhaseNet-TF, make sure the virtual environment and the conda environment are both activated, \n",
    "# and change to the phaseNet-TF directory\n",
    "# you don't need to activate the conda environment in future use, unless you need to install it again\n",
    "! rm *lock\n",
    "! poetry install --with train"
   ]
  },
  {
   "cell_type": "markdown",
   "metadata": {},
   "source": [
    "Now the PhaseNet-TF is installed, here is the last step, you can use any code editor or even terminal, open `~/phasenet-tf/lib/python3.10/site-packages/obspy/clients/filesystem/tsindex.py` and increase the parallel number to 500\n",
    "Then activate the environment again"
   ]
  },
  {
   "cell_type": "markdown",
   "metadata": {},
   "source": [
    "### Data preparation\n",
    "After data downloading, use `scripts/index.py` to create a database. To conduct prediction, all data need to be preprocess first, including\n",
    "- merge to remove duplications\n",
    "- resample to 40\n",
    "- fill the gaps with 0\n",
    "\n",
    "You can use `scripts/proprocessing.py` as reference"
   ]
  },
  {
   "cell_type": "markdown",
   "metadata": {},
   "source": [
    "### Phase precdiction\n",
    "To start prediction, you need to prepare\n",
    "- a database\n",
    "- a csv file for all traces need to be processed\n",
    "- a new directory to save output\n",
    "If you need to process a large dataset on icer, I suggest to split the dataset into several small pieces (less than 4 hours per piece) to save the queue time. You can use `scripts/split_data.py` and `scripts/merge_result.sh` as reference\n",
    "\n",
    "To do the prediction:\n",
    "```\n",
    "cd /code/to/phasenet-tf\n",
    "python3 -m src.predict --multirun hydra/launcher=submitit_slurm experiment=alaska\n",
    "```"
   ]
  },
  {
   "cell_type": "markdown",
   "metadata": {},
   "source": [
    "## Association"
   ]
  }
 ],
 "metadata": {
  "kernelspec": {
   "display_name": "pntf",
   "language": "python",
   "name": "python3"
  },
  "language_info": {
   "codemirror_mode": {
    "name": "ipython",
    "version": 3
   },
   "file_extension": ".py",
   "mimetype": "text/x-python",
   "name": "python",
   "nbconvert_exporter": "python",
   "pygments_lexer": "ipython3",
   "version": "3.9.17"
  }
 },
 "nbformat": 4,
 "nbformat_minor": 2
}
